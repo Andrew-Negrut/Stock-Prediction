{
 "cells": [
  {
   "cell_type": "code",
   "execution_count": null,
   "metadata": {},
   "outputs": [],
   "source": [
    "# Based on \"Stock Price Prediction & Forecasting with LSTM Neural Networks in Python\" By Greg Hogg"
   ]
  },
  {
   "cell_type": "code",
   "execution_count": 1,
   "metadata": {},
   "outputs": [],
   "source": [
    "import pandas as pd"
   ]
  },
  {
   "cell_type": "code",
   "execution_count": 45,
   "metadata": {},
   "outputs": [],
   "source": [
    "df = pd.read_csv('MSFT.csv')"
   ]
  },
  {
   "cell_type": "code",
   "execution_count": 46,
   "metadata": {},
   "outputs": [
    {
     "data": {
      "text/html": [
       "<div>\n",
       "<style scoped>\n",
       "    .dataframe tbody tr th:only-of-type {\n",
       "        vertical-align: middle;\n",
       "    }\n",
       "\n",
       "    .dataframe tbody tr th {\n",
       "        vertical-align: top;\n",
       "    }\n",
       "\n",
       "    .dataframe thead th {\n",
       "        text-align: right;\n",
       "    }\n",
       "</style>\n",
       "<table border=\"1\" class=\"dataframe\">\n",
       "  <thead>\n",
       "    <tr style=\"text-align: right;\">\n",
       "      <th></th>\n",
       "      <th>Date</th>\n",
       "      <th>Open</th>\n",
       "      <th>High</th>\n",
       "      <th>Low</th>\n",
       "      <th>Close</th>\n",
       "      <th>Adj Close</th>\n",
       "      <th>Volume</th>\n",
       "    </tr>\n",
       "  </thead>\n",
       "  <tbody>\n",
       "    <tr>\n",
       "      <th>0</th>\n",
       "      <td>1986-03-13</td>\n",
       "      <td>0.088542</td>\n",
       "      <td>0.101563</td>\n",
       "      <td>0.088542</td>\n",
       "      <td>0.097222</td>\n",
       "      <td>0.060980</td>\n",
       "      <td>1031788800</td>\n",
       "    </tr>\n",
       "    <tr>\n",
       "      <th>1</th>\n",
       "      <td>1986-03-14</td>\n",
       "      <td>0.097222</td>\n",
       "      <td>0.102431</td>\n",
       "      <td>0.097222</td>\n",
       "      <td>0.100694</td>\n",
       "      <td>0.063158</td>\n",
       "      <td>308160000</td>\n",
       "    </tr>\n",
       "    <tr>\n",
       "      <th>2</th>\n",
       "      <td>1986-03-17</td>\n",
       "      <td>0.100694</td>\n",
       "      <td>0.103299</td>\n",
       "      <td>0.100694</td>\n",
       "      <td>0.102431</td>\n",
       "      <td>0.064247</td>\n",
       "      <td>133171200</td>\n",
       "    </tr>\n",
       "    <tr>\n",
       "      <th>3</th>\n",
       "      <td>1986-03-18</td>\n",
       "      <td>0.102431</td>\n",
       "      <td>0.103299</td>\n",
       "      <td>0.098958</td>\n",
       "      <td>0.099826</td>\n",
       "      <td>0.062613</td>\n",
       "      <td>67766400</td>\n",
       "    </tr>\n",
       "    <tr>\n",
       "      <th>4</th>\n",
       "      <td>1986-03-19</td>\n",
       "      <td>0.099826</td>\n",
       "      <td>0.100694</td>\n",
       "      <td>0.097222</td>\n",
       "      <td>0.098090</td>\n",
       "      <td>0.061524</td>\n",
       "      <td>47894400</td>\n",
       "    </tr>\n",
       "  </tbody>\n",
       "</table>\n",
       "</div>"
      ],
      "text/plain": [
       "         Date      Open      High       Low     Close  Adj Close      Volume\n",
       "0  1986-03-13  0.088542  0.101563  0.088542  0.097222   0.060980  1031788800\n",
       "1  1986-03-14  0.097222  0.102431  0.097222  0.100694   0.063158   308160000\n",
       "2  1986-03-17  0.100694  0.103299  0.100694  0.102431   0.064247   133171200\n",
       "3  1986-03-18  0.102431  0.103299  0.098958  0.099826   0.062613    67766400\n",
       "4  1986-03-19  0.099826  0.100694  0.097222  0.098090   0.061524    47894400"
      ]
     },
     "execution_count": 46,
     "metadata": {},
     "output_type": "execute_result"
    }
   ],
   "source": [
    "df.head()"
   ]
  },
  {
   "cell_type": "code",
   "execution_count": 47,
   "metadata": {},
   "outputs": [],
   "source": [
    "df = df[['Date', 'Close']]"
   ]
  },
  {
   "cell_type": "code",
   "execution_count": 48,
   "metadata": {},
   "outputs": [
    {
     "data": {
      "text/html": [
       "<div>\n",
       "<style scoped>\n",
       "    .dataframe tbody tr th:only-of-type {\n",
       "        vertical-align: middle;\n",
       "    }\n",
       "\n",
       "    .dataframe tbody tr th {\n",
       "        vertical-align: top;\n",
       "    }\n",
       "\n",
       "    .dataframe thead th {\n",
       "        text-align: right;\n",
       "    }\n",
       "</style>\n",
       "<table border=\"1\" class=\"dataframe\">\n",
       "  <thead>\n",
       "    <tr style=\"text-align: right;\">\n",
       "      <th></th>\n",
       "      <th>Date</th>\n",
       "      <th>Close</th>\n",
       "    </tr>\n",
       "  </thead>\n",
       "  <tbody>\n",
       "    <tr>\n",
       "      <th>0</th>\n",
       "      <td>1986-03-13</td>\n",
       "      <td>0.097222</td>\n",
       "    </tr>\n",
       "    <tr>\n",
       "      <th>1</th>\n",
       "      <td>1986-03-14</td>\n",
       "      <td>0.100694</td>\n",
       "    </tr>\n",
       "    <tr>\n",
       "      <th>2</th>\n",
       "      <td>1986-03-17</td>\n",
       "      <td>0.102431</td>\n",
       "    </tr>\n",
       "    <tr>\n",
       "      <th>3</th>\n",
       "      <td>1986-03-18</td>\n",
       "      <td>0.099826</td>\n",
       "    </tr>\n",
       "    <tr>\n",
       "      <th>4</th>\n",
       "      <td>1986-03-19</td>\n",
       "      <td>0.098090</td>\n",
       "    </tr>\n",
       "  </tbody>\n",
       "</table>\n",
       "</div>"
      ],
      "text/plain": [
       "         Date     Close\n",
       "0  1986-03-13  0.097222\n",
       "1  1986-03-14  0.100694\n",
       "2  1986-03-17  0.102431\n",
       "3  1986-03-18  0.099826\n",
       "4  1986-03-19  0.098090"
      ]
     },
     "execution_count": 48,
     "metadata": {},
     "output_type": "execute_result"
    }
   ],
   "source": [
    "df.head()"
   ]
  },
  {
   "cell_type": "code",
   "execution_count": 49,
   "metadata": {},
   "outputs": [
    {
     "name": "stdout",
     "output_type": "stream",
     "text": [
      "1986-03-19 00:00:00\n"
     ]
    }
   ],
   "source": [
    "import datetime\n",
    "\n",
    "def str_to_datetime(s):\n",
    "    split = s.split('-')\n",
    "    year, month, day = int(split[0]), int(split[1]), int(split[2])\n",
    "    return datetime.datetime(year=year, month=month, day=day)\n",
    "\n",
    "print(str_to_datetime('1986-03-19'))"
   ]
  },
  {
   "cell_type": "code",
   "execution_count": 50,
   "metadata": {},
   "outputs": [
    {
     "data": {
      "text/plain": [
       "0      1986-03-13\n",
       "1      1986-03-14\n",
       "2      1986-03-17\n",
       "3      1986-03-18\n",
       "4      1986-03-19\n",
       "          ...    \n",
       "9219   2022-10-10\n",
       "9220   2022-10-11\n",
       "9221   2022-10-12\n",
       "9222   2022-10-13\n",
       "9223   2022-10-14\n",
       "Name: Date, Length: 9224, dtype: datetime64[ns]"
      ]
     },
     "execution_count": 50,
     "metadata": {},
     "output_type": "execute_result"
    }
   ],
   "source": [
    "df['Date'] = df['Date'].apply(str_to_datetime)\n",
    "df['Date']"
   ]
  },
  {
   "cell_type": "code",
   "execution_count": 51,
   "metadata": {},
   "outputs": [],
   "source": [
    "df.index = df.pop('Date')"
   ]
  },
  {
   "cell_type": "code",
   "execution_count": 52,
   "metadata": {},
   "outputs": [
    {
     "data": {
      "text/html": [
       "<div>\n",
       "<style scoped>\n",
       "    .dataframe tbody tr th:only-of-type {\n",
       "        vertical-align: middle;\n",
       "    }\n",
       "\n",
       "    .dataframe tbody tr th {\n",
       "        vertical-align: top;\n",
       "    }\n",
       "\n",
       "    .dataframe thead th {\n",
       "        text-align: right;\n",
       "    }\n",
       "</style>\n",
       "<table border=\"1\" class=\"dataframe\">\n",
       "  <thead>\n",
       "    <tr style=\"text-align: right;\">\n",
       "      <th></th>\n",
       "      <th>Close</th>\n",
       "    </tr>\n",
       "    <tr>\n",
       "      <th>Date</th>\n",
       "      <th></th>\n",
       "    </tr>\n",
       "  </thead>\n",
       "  <tbody>\n",
       "    <tr>\n",
       "      <th>1986-03-13</th>\n",
       "      <td>0.097222</td>\n",
       "    </tr>\n",
       "    <tr>\n",
       "      <th>1986-03-14</th>\n",
       "      <td>0.100694</td>\n",
       "    </tr>\n",
       "    <tr>\n",
       "      <th>1986-03-17</th>\n",
       "      <td>0.102431</td>\n",
       "    </tr>\n",
       "    <tr>\n",
       "      <th>1986-03-18</th>\n",
       "      <td>0.099826</td>\n",
       "    </tr>\n",
       "    <tr>\n",
       "      <th>1986-03-19</th>\n",
       "      <td>0.098090</td>\n",
       "    </tr>\n",
       "  </tbody>\n",
       "</table>\n",
       "</div>"
      ],
      "text/plain": [
       "               Close\n",
       "Date                \n",
       "1986-03-13  0.097222\n",
       "1986-03-14  0.100694\n",
       "1986-03-17  0.102431\n",
       "1986-03-18  0.099826\n",
       "1986-03-19  0.098090"
      ]
     },
     "execution_count": 52,
     "metadata": {},
     "output_type": "execute_result"
    }
   ],
   "source": [
    "df.head()"
   ]
  },
  {
   "cell_type": "code",
   "execution_count": 53,
   "metadata": {},
   "outputs": [],
   "source": [
    "import matplotlib.pyplot as plt"
   ]
  },
  {
   "cell_type": "code",
   "execution_count": 54,
   "metadata": {},
   "outputs": [
    {
     "data": {
      "text/plain": [
       "[<matplotlib.lines.Line2D at 0x1a425bb00a0>]"
      ]
     },
     "execution_count": 54,
     "metadata": {},
     "output_type": "execute_result"
    },
    {
     "data": {
      "image/png": "[encoded data removed]",
      "text/plain": [
       "<Figure size 432x288 with 1 Axes>"
      ]
     },
     "metadata": {
      "needs_background": "light"
     },
     "output_type": "display_data"
    }
   ],
   "source": [
    "plt.plot(df.index, df['Close'])"
   ]
  },
  {
   "cell_type": "code",
   "execution_count": 55,
   "metadata": {},
   "outputs": [
    {
     "data": {
      "text/html": [
       "<div>\n",
       "<style scoped>\n",
       "    .dataframe tbody tr th:only-of-type {\n",
       "        vertical-align: middle;\n",
       "    }\n",
       "\n",
       "    .dataframe tbody tr th {\n",
       "        vertical-align: top;\n",
       "    }\n",
       "\n",
       "    .dataframe thead th {\n",
       "        text-align: right;\n",
       "    }\n",
       "</style>\n",
       "<table border=\"1\" class=\"dataframe\">\n",
       "  <thead>\n",
       "    <tr style=\"text-align: right;\">\n",
       "      <th></th>\n",
       "      <th>Target Date</th>\n",
       "      <th>Target-3</th>\n",
       "      <th>Target-2</th>\n",
       "      <th>Target-1</th>\n",
       "      <th>Target</th>\n",
       "    </tr>\n",
       "  </thead>\n",
       "  <tbody>\n",
       "    <tr>\n",
       "      <th>0</th>\n",
       "      <td>2021-03-25</td>\n",
       "      <td>235.990005</td>\n",
       "      <td>237.580002</td>\n",
       "      <td>235.460007</td>\n",
       "      <td>232.339996</td>\n",
       "    </tr>\n",
       "    <tr>\n",
       "      <th>1</th>\n",
       "      <td>2021-03-26</td>\n",
       "      <td>237.580002</td>\n",
       "      <td>235.460007</td>\n",
       "      <td>232.339996</td>\n",
       "      <td>236.479996</td>\n",
       "    </tr>\n",
       "    <tr>\n",
       "      <th>2</th>\n",
       "      <td>2021-03-29</td>\n",
       "      <td>235.460007</td>\n",
       "      <td>232.339996</td>\n",
       "      <td>236.479996</td>\n",
       "      <td>235.240005</td>\n",
       "    </tr>\n",
       "    <tr>\n",
       "      <th>3</th>\n",
       "      <td>2021-03-30</td>\n",
       "      <td>232.339996</td>\n",
       "      <td>236.479996</td>\n",
       "      <td>235.240005</td>\n",
       "      <td>231.850006</td>\n",
       "    </tr>\n",
       "    <tr>\n",
       "      <th>4</th>\n",
       "      <td>2021-03-31</td>\n",
       "      <td>236.479996</td>\n",
       "      <td>235.240005</td>\n",
       "      <td>231.850006</td>\n",
       "      <td>235.770004</td>\n",
       "    </tr>\n",
       "  </tbody>\n",
       "</table>\n",
       "</div>"
      ],
      "text/plain": [
       "  Target Date    Target-3    Target-2    Target-1      Target\n",
       "0  2021-03-25  235.990005  237.580002  235.460007  232.339996\n",
       "1  2021-03-26  237.580002  235.460007  232.339996  236.479996\n",
       "2  2021-03-29  235.460007  232.339996  236.479996  235.240005\n",
       "3  2021-03-30  232.339996  236.479996  235.240005  231.850006\n",
       "4  2021-03-31  236.479996  235.240005  231.850006  235.770004"
      ]
     },
     "execution_count": 55,
     "metadata": {},
     "output_type": "execute_result"
    }
   ],
   "source": [
    "from matplotlib import dates\n",
    "import numpy as np\n",
    "\n",
    "def df_to_windowed_df(dataframe, first_date_str, last_date_str, n=3):\n",
    "    first_date = str_to_datetime(first_date_str)\n",
    "    last_date  = str_to_datetime(last_date_str)\n",
    "\n",
    "    target_date = first_date\n",
    "    \n",
    "    dates = []\n",
    "    X, Y = [], []\n",
    "\n",
    "    last_time = False\n",
    "    while True:\n",
    "        df_subset = dataframe.loc[:target_date].tail(n+1)\n",
    "        \n",
    "        if len(df_subset) != n+1:\n",
    "            print(f'Error: Window of size {n} is too large for date {target_date}')\n",
    "            return\n",
    "\n",
    "        values = df_subset['Close'].to_numpy()\n",
    "        x, y = values[:-1], values[-1]\n",
    "\n",
    "        dates.append(target_date)\n",
    "        X.append(x)\n",
    "        Y.append(y)\n",
    "\n",
    "        next_week = dataframe.loc[target_date:target_date+datetime.timedelta(days=7)]\n",
    "        next_datetime_str = str(next_week.head(2).tail(1).index.values[0])\n",
    "        next_date_str = next_datetime_str.split('T')[0]\n",
    "        year_month_day = next_date_str.split('-')\n",
    "        year, month, day = year_month_day\n",
    "        next_date = datetime.datetime(day=int(day), month=int(month), year=int(year))\n",
    "        \n",
    "        if last_time:\n",
    "            break\n",
    "        \n",
    "        target_date = next_date\n",
    "\n",
    "        if target_date == last_date:\n",
    "            last_time = True\n",
    "    \n",
    "    ret_df = pd.DataFrame({})\n",
    "    ret_df['Target Date'] = dates\n",
    "    \n",
    "    X = np.array(X)\n",
    "    for i in range(0, n):\n",
    "        X[:, i]\n",
    "        ret_df[f'Target-{n-i}'] = X[:, i]\n",
    "    \n",
    "    ret_df['Target'] = Y\n",
    "\n",
    "    return ret_df\n",
    "\n",
    "windowed_df = df_to_windowed_df(df, '2021-03-25', '2022-03-23', n=3)\n",
    "windowed_df.head()"
   ]
  },
  {
   "cell_type": "code",
   "execution_count": 56,
   "metadata": {},
   "outputs": [
    {
     "data": {
      "text/plain": [
       "((252,), (252, 3, 1), (252,))"
      ]
     },
     "execution_count": 56,
     "metadata": {},
     "output_type": "execute_result"
    }
   ],
   "source": [
    "def windowed_df_to_date_X_y(windowed_dataframe):\n",
    "    df_as_np = windowed_dataframe.to_numpy()\n",
    "\n",
    "    dates = df_as_np[:, 0]\n",
    "\n",
    "    middle_matrix = df_as_np[:, 1:-1]\n",
    "\n",
    "    X = middle_matrix.reshape((len(dates), middle_matrix.shape[1], 1))\n",
    "\n",
    "    Y = df_as_np[:, -1]\n",
    "\n",
    "    return dates, X.astype(np.float32), Y.astype(np.float32)\n",
    "\n",
    "dates, X, y = windowed_df_to_date_X_y(windowed_df)\n",
    "\n",
    "dates.shape, X.shape, y.shape"
   ]
  },
  {
   "cell_type": "code",
   "execution_count": 57,
   "metadata": {},
   "outputs": [
    {
     "data": {
      "text/plain": [
       "<matplotlib.legend.Legend at 0x1a425bf3a00>"
      ]
     },
     "execution_count": 57,
     "metadata": {},
     "output_type": "execute_result"
    },
    {
     "data": {
      "image/png": "[encoded data removed]",
      "text/plain": [
       "<Figure size 432x288 with 1 Axes>"
      ]
     },
     "metadata": {
      "needs_background": "light"
     },
     "output_type": "display_data"
    }
   ],
   "source": [
    "q_80 = int(len(dates) * 0.8)\n",
    "q_90 = int(len(dates) * 0.9)\n",
    "\n",
    "dates_train, X_train, y_train = dates[:q_80], X[:q_80], y[:q_80]\n",
    "dates_val, X_val, y_val = dates[q_80:q_90], X[q_80:q_90], y[q_80:q_90]\n",
    "dates_test, X_test, y_test = dates[q_90:], X[q_90:], y[q_90:]\n",
    "\n",
    "plt.plot(dates_train, y_train)\n",
    "plt.plot(dates_val, y_val)\n",
    "plt.plot(dates_test, y_test)\n",
    "\n",
    "plt.legend(['Train', 'Validation', 'Test'])"
   ]
  },
  {
   "cell_type": "code",
   "execution_count": 58,
   "metadata": {},
   "outputs": [],
   "source": [
    "from tensorflow.keras.models import Sequential\n",
    "from tensorflow.keras.optimizers import Adam\n",
    "from tensorflow.keras import layers"
   ]
  },
  {
   "cell_type": "code",
   "execution_count": 59,
   "metadata": {},
   "outputs": [
    {
     "name": "stdout",
     "output_type": "stream",
     "text": [
      "Epoch 1/100\n",
      "7/7 [==============================] - 1s 49ms/step - loss: 84466.9766 - mean_absolute_error: 288.8863 - val_loss: 91995.0234 - val_mean_absolute_error: 303.2195\n",
      "Epoch 2/100\n",
      "7/7 [==============================] - 0s 5ms/step - loss: 83992.8594 - mean_absolute_error: 288.0699 - val_loss: 91492.8984 - val_mean_absolute_error: 302.3904\n",
      "Epoch 3/100\n",
      "7/7 [==============================] - 0s 6ms/step - loss: 83495.8984 - mean_absolute_error: 287.2065 - val_loss: 90917.9531 - val_mean_absolute_error: 301.4382\n",
      "Epoch 4/100\n",
      "7/7 [==============================] - 0s 5ms/step - loss: 82895.3359 - mean_absolute_error: 286.1535 - val_loss: 90172.4219 - val_mean_absolute_error: 300.1989\n",
      "Epoch 5/100\n",
      "7/7 [==============================] - 0s 5ms/step - loss: 82095.8672 - mean_absolute_error: 284.7533 - val_loss: 89194.4609 - val_mean_absolute_error: 298.5657\n",
      "Epoch 6/100\n",
      "7/7 [==============================] - 0s 5ms/step - loss: 81093.4219 - mean_absolute_error: 282.9842 - val_loss: 87950.6797 - val_mean_absolute_error: 296.4755\n",
      "Epoch 7/100\n",
      "7/7 [==============================] - 0s 5ms/step - loss: 79810.1016 - mean_absolute_error: 280.7097 - val_loss: 86473.3984 - val_mean_absolute_error: 293.9735\n",
      "Epoch 8/100\n",
      "7/7 [==============================] - 0s 5ms/step - loss: 78292.0234 - mean_absolute_error: 277.9886 - val_loss: 84629.6797 - val_mean_absolute_error: 290.8207\n",
      "Epoch 9/100\n",
      "7/7 [==============================] - 0s 5ms/step - loss: 76433.1094 - mean_absolute_error: 274.6313 - val_loss: 82463.8984 - val_mean_absolute_error: 287.0729\n",
      "Epoch 10/100\n",
      "7/7 [==============================] - 0s 5ms/step - loss: 74080.2656 - mean_absolute_error: 270.3105 - val_loss: 79366.1094 - val_mean_absolute_error: 281.6257\n",
      "Epoch 11/100\n",
      "7/7 [==============================] - 0s 5ms/step - loss: 70830.9688 - mean_absolute_error: 264.1938 - val_loss: 75471.0625 - val_mean_absolute_error: 274.6231\n",
      "Epoch 12/100\n",
      "7/7 [==============================] - 0s 6ms/step - loss: 66588.4297 - mean_absolute_error: 256.0559 - val_loss: 69538.2891 - val_mean_absolute_error: 263.5999\n",
      "Epoch 13/100\n",
      "7/7 [==============================] - 0s 6ms/step - loss: 60592.6172 - mean_absolute_error: 244.0816 - val_loss: 63588.3555 - val_mean_absolute_error: 252.0623\n",
      "Epoch 14/100\n",
      "7/7 [==============================] - 0s 5ms/step - loss: 55245.8242 - mean_absolute_error: 232.8710 - val_loss: 57699.2812 - val_mean_absolute_error: 240.0960\n",
      "Epoch 15/100\n",
      "7/7 [==============================] - 0s 5ms/step - loss: 49242.9570 - mean_absolute_error: 219.4687 - val_loss: 50601.6133 - val_mean_absolute_error: 224.8301\n",
      "Epoch 16/100\n",
      "7/7 [==============================] - 0s 5ms/step - loss: 42637.1250 - mean_absolute_error: 204.0511 - val_loss: 43649.3945 - val_mean_absolute_error: 208.7973\n",
      "Epoch 17/100\n",
      "7/7 [==============================] - 0s 5ms/step - loss: 36108.0859 - mean_absolute_error: 187.3041 - val_loss: 36478.9727 - val_mean_absolute_error: 190.8555\n",
      "Epoch 18/100\n",
      "7/7 [==============================] - 0s 5ms/step - loss: 29337.0000 - mean_absolute_error: 168.2516 - val_loss: 29022.5703 - val_mean_absolute_error: 170.2047\n",
      "Epoch 19/100\n",
      "7/7 [==============================] - 0s 5ms/step - loss: 22879.3887 - mean_absolute_error: 147.7174 - val_loss: 22547.9727 - val_mean_absolute_error: 149.9834\n",
      "Epoch 20/100\n",
      "7/7 [==============================] - 0s 5ms/step - loss: 17262.0215 - mean_absolute_error: 127.3526 - val_loss: 16795.0234 - val_mean_absolute_error: 129.3911\n",
      "Epoch 21/100\n",
      "7/7 [==============================] - 0s 5ms/step - loss: 12420.3779 - mean_absolute_error: 106.5835 - val_loss: 11781.0215 - val_mean_absolute_error: 108.2942\n",
      "Epoch 22/100\n",
      "7/7 [==============================] - 0s 5ms/step - loss: 8115.5005 - mean_absolute_error: 83.7926 - val_loss: 6992.0869 - val_mean_absolute_error: 83.2991\n",
      "Epoch 23/100\n",
      "7/7 [==============================] - 0s 5ms/step - loss: 4684.3867 - mean_absolute_error: 59.9413 - val_loss: 3845.3843 - val_mean_absolute_error: 61.5810\n",
      "Epoch 24/100\n",
      "7/7 [==============================] - 0s 5ms/step - loss: 2622.0083 - mean_absolute_error: 41.7636 - val_loss: 2024.5743 - val_mean_absolute_error: 44.4028\n",
      "Epoch 25/100\n",
      "7/7 [==============================] - 0s 5ms/step - loss: 1597.6498 - mean_absolute_error: 32.3018 - val_loss: 997.8632 - val_mean_absolute_error: 30.7392\n",
      "Epoch 26/100\n",
      "7/7 [==============================] - 0s 5ms/step - loss: 1151.3606 - mean_absolute_error: 28.7079 - val_loss: 489.9869 - val_mean_absolute_error: 20.9051\n",
      "Epoch 27/100\n",
      "7/7 [==============================] - 0s 5ms/step - loss: 1033.4749 - mean_absolute_error: 27.2950 - val_loss: 270.7546 - val_mean_absolute_error: 14.8349\n",
      "Epoch 28/100\n",
      "7/7 [==============================] - 0s 5ms/step - loss: 1012.5789 - mean_absolute_error: 26.9138 - val_loss: 194.6891 - val_mean_absolute_error: 12.2103\n",
      "Epoch 29/100\n",
      "7/7 [==============================] - 0s 5ms/step - loss: 1021.5018 - mean_absolute_error: 26.9965 - val_loss: 176.2952 - val_mean_absolute_error: 11.4749\n",
      "Epoch 30/100\n",
      "7/7 [==============================] - 0s 5ms/step - loss: 1022.4171 - mean_absolute_error: 27.0007 - val_loss: 192.8775 - val_mean_absolute_error: 12.1401\n",
      "Epoch 31/100\n",
      "7/7 [==============================] - 0s 6ms/step - loss: 1016.2197 - mean_absolute_error: 26.9449 - val_loss: 225.9788 - val_mean_absolute_error: 13.3591\n",
      "Epoch 32/100\n",
      "7/7 [==============================] - 0s 5ms/step - loss: 1009.9691 - mean_absolute_error: 26.8694 - val_loss: 251.9945 - val_mean_absolute_error: 14.2370\n",
      "Epoch 33/100\n",
      "7/7 [==============================] - 0s 5ms/step - loss: 1009.9196 - mean_absolute_error: 26.8469 - val_loss: 286.4442 - val_mean_absolute_error: 15.3155\n",
      "Epoch 34/100\n",
      "7/7 [==============================] - 0s 5ms/step - loss: 1011.1406 - mean_absolute_error: 26.8878 - val_loss: 308.9599 - val_mean_absolute_error: 16.0000\n",
      "Epoch 35/100\n",
      "7/7 [==============================] - 0s 5ms/step - loss: 1011.3372 - mean_absolute_error: 26.8890 - val_loss: 307.4774 - val_mean_absolute_error: 15.9536\n",
      "Epoch 36/100\n",
      "7/7 [==============================] - 0s 5ms/step - loss: 1009.4727 - mean_absolute_error: 26.8610 - val_loss: 295.6254 - val_mean_absolute_error: 15.5921\n",
      "Epoch 37/100\n",
      "7/7 [==============================] - 0s 5ms/step - loss: 991.5050 - mean_absolute_error: 26.5678 - val_loss: 367.4543 - val_mean_absolute_error: 17.7659\n",
      "Epoch 38/100\n",
      "7/7 [==============================] - 0s 5ms/step - loss: 978.9844 - mean_absolute_error: 26.4319 - val_loss: 268.3113 - val_mean_absolute_error: 14.7744\n",
      "Epoch 39/100\n",
      "7/7 [==============================] - 0s 5ms/step - loss: 966.4929 - mean_absolute_error: 26.3172 - val_loss: 375.8334 - val_mean_absolute_error: 18.0389\n",
      "Epoch 40/100\n",
      "7/7 [==============================] - 0s 5ms/step - loss: 943.7701 - mean_absolute_error: 25.9554 - val_loss: 277.1509 - val_mean_absolute_error: 15.0806\n",
      "Epoch 41/100\n",
      "7/7 [==============================] - 0s 5ms/step - loss: 928.3621 - mean_absolute_error: 25.7522 - val_loss: 325.4076 - val_mean_absolute_error: 16.5994\n",
      "Epoch 42/100\n",
      "7/7 [==============================] - 0s 5ms/step - loss: 918.2954 - mean_absolute_error: 25.5976 - val_loss: 282.1056 - val_mean_absolute_error: 15.2505\n",
      "Epoch 43/100\n",
      "7/7 [==============================] - 0s 5ms/step - loss: 903.8810 - mean_absolute_error: 25.3960 - val_loss: 278.4225 - val_mean_absolute_error: 15.1541\n",
      "Epoch 44/100\n",
      "7/7 [==============================] - 0s 5ms/step - loss: 908.3651 - mean_absolute_error: 25.4702 - val_loss: 246.4429 - val_mean_absolute_error: 14.1486\n",
      "Epoch 45/100\n",
      "7/7 [==============================] - 0s 5ms/step - loss: 901.4590 - mean_absolute_error: 25.3591 - val_loss: 288.8302 - val_mean_absolute_error: 15.4749\n",
      "Epoch 46/100\n",
      "7/7 [==============================] - 0s 5ms/step - loss: 865.3585 - mean_absolute_error: 24.8611 - val_loss: 317.3819 - val_mean_absolute_error: 16.4310\n",
      "Epoch 47/100\n",
      "7/7 [==============================] - 0s 5ms/step - loss: 843.3873 - mean_absolute_error: 24.5278 - val_loss: 184.9187 - val_mean_absolute_error: 11.9776\n",
      "Epoch 48/100\n",
      "7/7 [==============================] - 0s 5ms/step - loss: 862.8491 - mean_absolute_error: 24.8178 - val_loss: 173.4833 - val_mean_absolute_error: 11.5149\n",
      "Epoch 49/100\n",
      "7/7 [==============================] - 0s 5ms/step - loss: 809.4068 - mean_absolute_error: 23.9428 - val_loss: 356.6187 - val_mean_absolute_error: 17.6354\n",
      "Epoch 50/100\n",
      "7/7 [==============================] - 0s 5ms/step - loss: 781.7675 - mean_absolute_error: 23.7147 - val_loss: 194.5765 - val_mean_absolute_error: 12.3980\n",
      "Epoch 51/100\n",
      "7/7 [==============================] - 0s 5ms/step - loss: 777.5484 - mean_absolute_error: 23.5613 - val_loss: 241.6960 - val_mean_absolute_error: 14.0771\n",
      "Epoch 52/100\n",
      "7/7 [==============================] - 0s 5ms/step - loss: 728.4535 - mean_absolute_error: 22.7591 - val_loss: 559.4234 - val_mean_absolute_error: 22.6959\n",
      "Epoch 53/100\n",
      "7/7 [==============================] - 0s 5ms/step - loss: 742.5596 - mean_absolute_error: 22.9019 - val_loss: 156.9359 - val_mean_absolute_error: 10.9403\n",
      "Epoch 54/100\n",
      "7/7 [==============================] - 0s 5ms/step - loss: 682.0038 - mean_absolute_error: 21.9466 - val_loss: 285.2824 - val_mean_absolute_error: 15.6105\n",
      "Epoch 55/100\n",
      "7/7 [==============================] - 0s 5ms/step - loss: 636.5657 - mean_absolute_error: 21.2848 - val_loss: 85.5771 - val_mean_absolute_error: 7.5049\n",
      "Epoch 56/100\n",
      "7/7 [==============================] - 0s 5ms/step - loss: 665.2853 - mean_absolute_error: 21.7734 - val_loss: 240.2215 - val_mean_absolute_error: 14.1531\n",
      "Epoch 57/100\n",
      "7/7 [==============================] - 0s 5ms/step - loss: 560.9819 - mean_absolute_error: 19.8005 - val_loss: 112.0547 - val_mean_absolute_error: 8.9609\n",
      "Epoch 58/100\n",
      "7/7 [==============================] - 0s 5ms/step - loss: 488.3829 - mean_absolute_error: 18.7564 - val_loss: 256.2802 - val_mean_absolute_error: 14.8553\n",
      "Epoch 59/100\n",
      "7/7 [==============================] - 0s 5ms/step - loss: 419.2703 - mean_absolute_error: 16.8650 - val_loss: 172.3852 - val_mean_absolute_error: 11.7802\n",
      "Epoch 60/100\n",
      "7/7 [==============================] - 0s 5ms/step - loss: 339.8539 - mean_absolute_error: 15.0799 - val_loss: 57.1407 - val_mean_absolute_error: 6.0444\n",
      "Epoch 61/100\n",
      "7/7 [==============================] - 0s 6ms/step - loss: 308.1447 - mean_absolute_error: 14.3139 - val_loss: 50.5340 - val_mean_absolute_error: 5.6561\n",
      "Epoch 62/100\n",
      "7/7 [==============================] - 0s 5ms/step - loss: 270.1342 - mean_absolute_error: 13.4575 - val_loss: 57.5635 - val_mean_absolute_error: 6.1056\n",
      "Epoch 63/100\n",
      "7/7 [==============================] - 0s 6ms/step - loss: 217.0556 - mean_absolute_error: 11.5720 - val_loss: 52.7614 - val_mean_absolute_error: 5.8685\n",
      "Epoch 64/100\n",
      "7/7 [==============================] - 0s 5ms/step - loss: 174.7755 - mean_absolute_error: 10.2996 - val_loss: 53.8707 - val_mean_absolute_error: 5.9894\n",
      "Epoch 65/100\n",
      "7/7 [==============================] - 0s 5ms/step - loss: 145.5141 - mean_absolute_error: 9.2837 - val_loss: 53.2332 - val_mean_absolute_error: 6.0215\n",
      "Epoch 66/100\n",
      "7/7 [==============================] - 0s 6ms/step - loss: 121.6728 - mean_absolute_error: 8.4937 - val_loss: 94.1316 - val_mean_absolute_error: 8.2033\n",
      "Epoch 67/100\n",
      "7/7 [==============================] - 0s 5ms/step - loss: 134.6550 - mean_absolute_error: 9.1295 - val_loss: 31.9298 - val_mean_absolute_error: 4.9824\n",
      "Epoch 68/100\n",
      "7/7 [==============================] - 0s 5ms/step - loss: 104.5692 - mean_absolute_error: 8.1344 - val_loss: 30.2175 - val_mean_absolute_error: 4.8515\n",
      "Epoch 69/100\n",
      "7/7 [==============================] - 0s 5ms/step - loss: 79.7272 - mean_absolute_error: 6.9441 - val_loss: 32.1284 - val_mean_absolute_error: 4.8396\n",
      "Epoch 70/100\n",
      "7/7 [==============================] - 0s 5ms/step - loss: 66.1360 - mean_absolute_error: 6.0860 - val_loss: 32.9286 - val_mean_absolute_error: 4.8560\n",
      "Epoch 71/100\n",
      "7/7 [==============================] - 0s 5ms/step - loss: 56.5262 - mean_absolute_error: 5.5589 - val_loss: 30.2794 - val_mean_absolute_error: 4.8135\n",
      "Epoch 72/100\n",
      "7/7 [==============================] - 0s 5ms/step - loss: 61.7276 - mean_absolute_error: 6.1283 - val_loss: 30.3066 - val_mean_absolute_error: 4.8248\n",
      "Epoch 73/100\n",
      "7/7 [==============================] - 0s 5ms/step - loss: 44.3189 - mean_absolute_error: 4.9886 - val_loss: 39.8952 - val_mean_absolute_error: 5.0372\n",
      "Epoch 74/100\n",
      "7/7 [==============================] - 0s 5ms/step - loss: 37.9811 - mean_absolute_error: 4.7366 - val_loss: 34.3129 - val_mean_absolute_error: 4.8611\n",
      "Epoch 75/100\n",
      "7/7 [==============================] - 0s 5ms/step - loss: 40.9211 - mean_absolute_error: 5.0315 - val_loss: 68.2567 - val_mean_absolute_error: 6.5690\n",
      "Epoch 76/100\n",
      "7/7 [==============================] - 0s 5ms/step - loss: 36.2080 - mean_absolute_error: 4.7072 - val_loss: 75.0644 - val_mean_absolute_error: 6.9698\n",
      "Epoch 77/100\n",
      "7/7 [==============================] - 0s 5ms/step - loss: 42.5195 - mean_absolute_error: 5.2989 - val_loss: 59.6519 - val_mean_absolute_error: 6.0413\n",
      "Epoch 78/100\n",
      "7/7 [==============================] - 0s 5ms/step - loss: 34.2339 - mean_absolute_error: 4.6924 - val_loss: 37.4455 - val_mean_absolute_error: 4.9053\n",
      "Epoch 79/100\n",
      "7/7 [==============================] - 0s 5ms/step - loss: 34.8406 - mean_absolute_error: 4.6537 - val_loss: 31.3189 - val_mean_absolute_error: 4.7724\n",
      "Epoch 80/100\n",
      "7/7 [==============================] - 0s 5ms/step - loss: 28.3109 - mean_absolute_error: 4.2273 - val_loss: 33.9790 - val_mean_absolute_error: 4.8395\n",
      "Epoch 81/100\n",
      "7/7 [==============================] - 0s 5ms/step - loss: 28.7042 - mean_absolute_error: 4.2570 - val_loss: 53.8428 - val_mean_absolute_error: 5.7761\n",
      "Epoch 82/100\n",
      "7/7 [==============================] - 0s 5ms/step - loss: 32.0078 - mean_absolute_error: 4.4946 - val_loss: 45.3301 - val_mean_absolute_error: 5.3441\n",
      "Epoch 83/100\n",
      "7/7 [==============================] - 0s 5ms/step - loss: 23.8116 - mean_absolute_error: 3.8019 - val_loss: 33.7479 - val_mean_absolute_error: 4.8283\n",
      "Epoch 84/100\n",
      "7/7 [==============================] - 0s 5ms/step - loss: 25.0172 - mean_absolute_error: 3.8892 - val_loss: 54.0090 - val_mean_absolute_error: 5.7926\n",
      "Epoch 85/100\n",
      "7/7 [==============================] - 0s 5ms/step - loss: 23.7594 - mean_absolute_error: 3.9403 - val_loss: 60.2523 - val_mean_absolute_error: 6.0688\n",
      "Epoch 86/100\n",
      "7/7 [==============================] - 0s 5ms/step - loss: 24.1901 - mean_absolute_error: 3.9091 - val_loss: 57.4930 - val_mean_absolute_error: 5.9425\n",
      "Epoch 87/100\n",
      "7/7 [==============================] - 0s 5ms/step - loss: 24.5327 - mean_absolute_error: 4.0065 - val_loss: 77.2435 - val_mean_absolute_error: 7.0976\n",
      "Epoch 88/100\n",
      "7/7 [==============================] - 0s 5ms/step - loss: 27.8830 - mean_absolute_error: 4.2996 - val_loss: 36.1248 - val_mean_absolute_error: 4.8498\n",
      "Epoch 89/100\n",
      "7/7 [==============================] - 0s 5ms/step - loss: 28.5478 - mean_absolute_error: 4.3400 - val_loss: 32.1046 - val_mean_absolute_error: 4.7738\n",
      "Epoch 90/100\n",
      "7/7 [==============================] - 0s 5ms/step - loss: 24.7000 - mean_absolute_error: 3.9598 - val_loss: 33.0887 - val_mean_absolute_error: 4.8065\n",
      "Epoch 91/100\n",
      "7/7 [==============================] - 0s 5ms/step - loss: 23.4467 - mean_absolute_error: 3.9114 - val_loss: 32.2985 - val_mean_absolute_error: 4.7894\n",
      "Epoch 92/100\n",
      "7/7 [==============================] - 0s 5ms/step - loss: 26.3194 - mean_absolute_error: 4.0637 - val_loss: 56.1912 - val_mean_absolute_error: 5.9002\n",
      "Epoch 93/100\n",
      "7/7 [==============================] - 0s 5ms/step - loss: 20.5409 - mean_absolute_error: 3.6246 - val_loss: 76.8948 - val_mean_absolute_error: 7.0638\n",
      "Epoch 94/100\n",
      "7/7 [==============================] - 0s 5ms/step - loss: 27.0906 - mean_absolute_error: 4.1419 - val_loss: 117.2719 - val_mean_absolute_error: 9.2809\n",
      "Epoch 95/100\n",
      "7/7 [==============================] - 0s 5ms/step - loss: 33.4154 - mean_absolute_error: 4.6158 - val_loss: 104.1534 - val_mean_absolute_error: 8.6127\n",
      "Epoch 96/100\n",
      "7/7 [==============================] - 0s 5ms/step - loss: 37.0882 - mean_absolute_error: 4.9360 - val_loss: 79.8276 - val_mean_absolute_error: 7.2462\n",
      "Epoch 97/100\n",
      "7/7 [==============================] - 0s 5ms/step - loss: 29.1998 - mean_absolute_error: 4.3902 - val_loss: 62.9629 - val_mean_absolute_error: 6.2334\n",
      "Epoch 98/100\n",
      "7/7 [==============================] - 0s 5ms/step - loss: 20.3348 - mean_absolute_error: 3.4677 - val_loss: 68.9656 - val_mean_absolute_error: 6.5937\n",
      "Epoch 99/100\n",
      "7/7 [==============================] - 0s 5ms/step - loss: 21.0838 - mean_absolute_error: 3.6188 - val_loss: 63.1627 - val_mean_absolute_error: 6.2243\n",
      "Epoch 100/100\n",
      "7/7 [==============================] - 0s 5ms/step - loss: 23.4013 - mean_absolute_error: 3.8219 - val_loss: 55.2039 - val_mean_absolute_error: 5.8510\n"
     ]
    },
    {
     "data": {
      "text/plain": [
       "<keras.callbacks.History at 0x1a426d67fa0>"
      ]
     },
     "execution_count": 59,
     "metadata": {},
     "output_type": "execute_result"
    }
   ],
   "source": [
    "model = Sequential([layers.Input((3, 1)),\n",
    "layers.LSTM(64),\n",
    "layers.Dense(32, activation='relu'),\n",
    "layers.Dense(32, activation='relu'),\n",
    "layers.Dense(1)])\n",
    "\n",
    "model.compile(loss='mse', optimizer=Adam(learning_rate=0.001), metrics=['mean_absolute_error'])\n",
    "\n",
    "model.fit(X_train, y_train, validation_data=(X_val, y_val), epochs=100)"
   ]
  },
  {
   "cell_type": "code",
   "execution_count": 60,
   "metadata": {},
   "outputs": [
    {
     "name": "stdout",
     "output_type": "stream",
     "text": [
      "7/7 [==============================] - 0s 1ms/step\n"
     ]
    },
    {
     "data": {
      "text/plain": [
       "<matplotlib.legend.Legend at 0x1a42a2763d0>"
      ]
     },
     "execution_count": 60,
     "metadata": {},
     "output_type": "execute_result"
    },
    {
     "data": {
      "image/png": "[encoded data removed]",
      "text/plain": [
       "<Figure size 432x288 with 1 Axes>"
      ]
     },
     "metadata": {
      "needs_background": "light"
     },
     "output_type": "display_data"
    }
   ],
   "source": [
    "train_predictions = model.predict(X_train).flatten()\n",
    "\n",
    "plt.plot(dates_train, train_predictions)\n",
    "plt.plot(dates_train, y_train)\n",
    "plt.legend(['Training Prediction', 'Training Observations'])"
   ]
  },
  {
   "cell_type": "code",
   "execution_count": 61,
   "metadata": {},
   "outputs": [
    {
     "name": "stdout",
     "output_type": "stream",
     "text": [
      "1/1 [==============================] - 0s 16ms/step\n",
      "1/1 [==============================] - 0s 15ms/step\n"
     ]
    },
    {
     "data": {
      "text/plain": [
       "<matplotlib.legend.Legend at 0x1a42a310670>"
      ]
     },
     "execution_count": 61,
     "metadata": {},
     "output_type": "execute_result"
    },
    {
     "data": {
      "image/png": "[encoded data removed]",
      "text/plain": [
       "<Figure size 432x288 with 1 Axes>"
      ]
     },
     "metadata": {
      "needs_background": "light"
     },
     "output_type": "display_data"
    }
   ],
   "source": [
    "plt.plot(dates_train, train_predictions)\n",
    "plt.plot(dates_train, y_train)\n",
    "plt.plot(dates_val, model.predict(X_val).flatten())\n",
    "plt.plot(dates_val, y_val)\n",
    "plt.plot(dates_test, model.predict(X_test).flatten())\n",
    "plt.plot(dates_test, y_test)\n",
    "plt.legend(['Training Predictions', 'Training Observations', 'Validation Predictions', 'Validation Observations',\n",
    "'Testing Predictions', 'Testing Observations'])"
   ]
  },
  {
   "cell_type": "code",
   "execution_count": 62,
   "metadata": {},
   "outputs": [
    {
     "name": "stdout",
     "output_type": "stream",
     "text": [
      "1/1 [==============================] - 0s 16ms/step\n",
      "1/1 [==============================] - 0s 14ms/step\n",
      "1/1 [==============================] - 0s 14ms/step\n",
      "1/1 [==============================] - 0s 20ms/step\n",
      "1/1 [==============================] - 0s 13ms/step\n",
      "1/1 [==============================] - 0s 15ms/step\n",
      "1/1 [==============================] - 0s 15ms/step\n",
      "1/1 [==============================] - 0s 14ms/step\n",
      "1/1 [==============================] - 0s 14ms/step\n",
      "1/1 [==============================] - 0s 14ms/step\n",
      "1/1 [==============================] - 0s 14ms/step\n",
      "1/1 [==============================] - 0s 14ms/step\n",
      "1/1 [==============================] - 0s 16ms/step\n",
      "1/1 [==============================] - 0s 16ms/step\n",
      "1/1 [==============================] - 0s 16ms/step\n",
      "1/1 [==============================] - 0s 15ms/step\n",
      "1/1 [==============================] - 0s 15ms/step\n",
      "1/1 [==============================] - 0s 15ms/step\n",
      "1/1 [==============================] - 0s 14ms/step\n",
      "1/1 [==============================] - 0s 15ms/step\n",
      "1/1 [==============================] - 0s 14ms/step\n",
      "1/1 [==============================] - 0s 14ms/step\n",
      "1/1 [==============================] - 0s 14ms/step\n",
      "1/1 [==============================] - 0s 13ms/step\n",
      "1/1 [==============================] - 0s 15ms/step\n",
      "1/1 [==============================] - 0s 14ms/step\n",
      "1/1 [==============================] - 0s 14ms/step\n",
      "1/1 [==============================] - 0s 14ms/step\n",
      "1/1 [==============================] - 0s 15ms/step\n",
      "1/1 [==============================] - 0s 15ms/step\n",
      "1/1 [==============================] - 0s 16ms/step\n",
      "1/1 [==============================] - 0s 14ms/step\n",
      "1/1 [==============================] - 0s 15ms/step\n",
      "1/1 [==============================] - 0s 15ms/step\n",
      "1/1 [==============================] - 0s 15ms/step\n",
      "1/1 [==============================] - 0s 15ms/step\n",
      "1/1 [==============================] - 0s 16ms/step\n",
      "1/1 [==============================] - 0s 14ms/step\n",
      "1/1 [==============================] - 0s 15ms/step\n",
      "1/1 [==============================] - 0s 15ms/step\n",
      "1/1 [==============================] - 0s 16ms/step\n",
      "1/1 [==============================] - 0s 13ms/step\n",
      "1/1 [==============================] - 0s 14ms/step\n",
      "1/1 [==============================] - 0s 13ms/step\n",
      "1/1 [==============================] - 0s 15ms/step\n",
      "1/1 [==============================] - 0s 13ms/step\n",
      "1/1 [==============================] - 0s 14ms/step\n",
      "1/1 [==============================] - 0s 14ms/step\n",
      "1/1 [==============================] - 0s 12ms/step\n",
      "1/1 [==============================] - 0s 13ms/step\n",
      "1/1 [==============================] - 0s 14ms/step\n"
     ]
    }
   ],
   "source": [
    "from copy import deepcopy\n",
    "\n",
    "recursive_predictions = []\n",
    "recursive_dates = np.concatenate([dates_val, dates_test])\n",
    "\n",
    "for target_date in recursive_dates:\n",
    "    last_window = deepcopy(X_train[-1])\n",
    "    next_prediction = model.predict(np.array([last_window])).flatten()\n",
    "    recursive_predictions.append(next_prediction)\n",
    "    last_window[-1] = next_prediction"
   ]
  },
  {
   "cell_type": "code",
   "execution_count": 63,
   "metadata": {},
   "outputs": [
    {
     "name": "stdout",
     "output_type": "stream",
     "text": [
      "1/1 [==============================] - 0s 15ms/step\n",
      "1/1 [==============================] - 0s 17ms/step\n"
     ]
    },
    {
     "data": {
      "text/plain": [
       "<matplotlib.legend.Legend at 0x1a42a2f87f0>"
      ]
     },
     "execution_count": 63,
     "metadata": {},
     "output_type": "execute_result"
    },
    {
     "data": {
      "image/png": "[encoded data removed]",
      "text/plain": [
       "<Figure size 432x288 with 1 Axes>"
      ]
     },
     "metadata": {
      "needs_background": "light"
     },
     "output_type": "display_data"
    }
   ],
   "source": [
    "plt.plot(dates_train, train_predictions)\n",
    "plt.plot(dates_train, y_train)\n",
    "plt.plot(dates_val, model.predict(X_val).flatten())\n",
    "plt.plot(dates_val, y_val)\n",
    "plt.plot(dates_test, model.predict(X_test).flatten())\n",
    "plt.plot(dates_test, y_test)\n",
    "plt.plot(recursive_dates, recursive_predictions)\n",
    "plt.legend(['Training Predictions', 'Training Observations', 'Validation Predictions', 'Validation Observations',\n",
    "'Testing Predictions', 'Testing Observations', 'Recurisve Predictions'])"
   ]
  }
 ],
 "metadata": {
  "kernelspec": {
   "display_name": "Python 3.9.7 64-bit",
   "language": "python",
   "name": "python3"
  },
  "language_info": {
   "codemirror_mode": {
    "name": "ipython",
    "version": 3
   },
   "file_extension": ".py",
   "mimetype": "text/x-python",
   "name": "python",
   "nbconvert_exporter": "python",
   "pygments_lexer": "ipython3",
   "version": "3.9.7"
  },
  "orig_nbformat": 4,
  "vscode": {
   "interpreter": {
    "hash": "08e595c52ca3b9470036b1110e67b559e55f367cabc363f2e28d35631ed95060"
   }
  }
 },
 "nbformat": 4,
 "nbformat_minor": 2
}
